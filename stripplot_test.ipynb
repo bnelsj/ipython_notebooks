{
 "metadata": {},
 "nbformat": 3,
 "nbformat_minor": 0,
 "worksheets": [
  {
   "cells": [
    {
     "cell_type": "code",
     "collapsed": false,
     "input": [
      "import seaborn as sns\n",
      "\n",
      "df = sns.load_dataset(\"tips\")\n",
      "\n",
      "ax = sns.stripplot(x=\"sex\", y=\"tip\", hue=\"day\", data=df, jitter=True, edgecolor=sns.color_palette(\"hls\", 4), facecolors=\"none\", split=False, alpha=0.7)"
     ],
     "language": "python",
     "metadata": {},
     "outputs": []
    }
   ],
   "metadata": {}
  }
 ]
}